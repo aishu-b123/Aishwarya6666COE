{
 "cells": [
  {
   "cell_type": "code",
   "execution_count": 1,
   "id": "20bf9e97-affe-4469-a55f-0deeae02028f",
   "metadata": {},
   "outputs": [],
   "source": [
    "import pandas as pd\n",
    "from sklearn.utils import resample\n"
   ]
  },
  {
   "cell_type": "code",
   "execution_count": 5,
   "id": "19d693ae-77d5-4531-8427-54f7ea0f91ef",
   "metadata": {},
   "outputs": [],
   "source": [
    "df=pd.DataFrame({\n",
    "    'Age':[22,25,27,28,30,35,40,45,50,55,60,65,70],\n",
    "    'Income':[2000,2500,2700,3200,3500,3800,4000,4200,4300,4500,5000,5500,6000],\n",
    "    'Class':['High','Low','Low','High','High','Low','High','High','Low','Low','High','High','Low']\n",
    "})"
   ]
  },
  {
   "cell_type": "code",
   "execution_count": 6,
   "id": "cd1d23c2-7f09-4806-8cb5-0a6141370fd3",
   "metadata": {},
   "outputs": [],
   "source": [
    "df_high=df[df['Class']=='High']\n",
    "df_low=df[df['Class']=='Low']"
   ]
  },
  {
   "cell_type": "code",
   "execution_count": 9,
   "id": "3a238d67-a5f5-4fae-81c9-9428af1f6104",
   "metadata": {},
   "outputs": [
    {
     "name": "stdout",
     "output_type": "stream",
     "text": [
      "    Age  Income Class\n",
      "0    22    2000  High\n",
      "3    28    3200  High\n",
      "10   60    5000  High\n",
      "4    30    3500  High\n",
      "7    45    4200  High\n",
      "6    40    4000  High\n"
     ]
    }
   ],
   "source": [
    "down_sample=resample(df_high,replace=False,n_samples=len(df_low),random_state=42)\n",
    "print(down_sample)"
   ]
  },
  {
   "cell_type": "code",
   "execution_count": 8,
   "id": "a0dff9df-887d-406b-aa7d-3da9a7b1cd8e",
   "metadata": {},
   "outputs": [],
   "source": [
    "df_balanced=pd.concat([down_sample,df_low])"
   ]
  },
  {
   "cell_type": "code",
   "execution_count": 21,
   "id": "11bf6c1c-81aa-4f97-b73c-36ed2c83527a",
   "metadata": {},
   "outputs": [
    {
     "name": "stdout",
     "output_type": "stream",
     "text": [
      "    Age  Income Class\n",
      "0    22    2000  High\n",
      "3    28    3200  High\n",
      "10   60    5000  High\n",
      "4    30    3500  High\n",
      "7    45    4200  High\n",
      "6    40    4000  High\n",
      "1    25    2500   Low\n",
      "2    27    2700   Low\n",
      "5    35    3800   Low\n",
      "8    50    4300   Low\n",
      "9    55    4500   Low\n",
      "12   70    6000   Low\n",
      "Class\n",
      "High    6\n",
      "Low     6\n",
      "Name: count, dtype: int64\n"
     ]
    }
   ],
   "source": [
    "print(df_balanced)\n",
    "print(df_balanced['Class'].value_counts())"
   ]
  },
  {
   "cell_type": "code",
   "execution_count": 16,
   "id": "ccbf2bd1-433f-48bc-a1b3-b7248c74a3cb",
   "metadata": {},
   "outputs": [
    {
     "name": "stdout",
     "output_type": "stream",
     "text": [
      "   Age  Income Class\n",
      "8   50    4300   Low\n",
      "9   55    4500   Low\n",
      "5   35    3800   Low\n",
      "9   55    4500   Low\n",
      "9   55    4500   Low\n",
      "2   27    2700   Low\n",
      "5   35    3800   Low\n"
     ]
    }
   ],
   "source": [
    "up_sample=resample(df_low,replace=True,n_samples=len(df_high),random_state=42)\n",
    "print(up_sample)"
   ]
  },
  {
   "cell_type": "code",
   "execution_count": 20,
   "id": "799bd1ca-3513-491e-9918-44aeb4298d0a",
   "metadata": {},
   "outputs": [
    {
     "name": "stdout",
     "output_type": "stream",
     "text": [
      "    Age  Income Class\n",
      "8    50    4300   Low\n",
      "9    55    4500   Low\n",
      "5    35    3800   Low\n",
      "9    55    4500   Low\n",
      "9    55    4500   Low\n",
      "2    27    2700   Low\n",
      "5    35    3800   Low\n",
      "0    22    2000  High\n",
      "3    28    3200  High\n",
      "4    30    3500  High\n",
      "6    40    4000  High\n",
      "7    45    4200  High\n",
      "10   60    5000  High\n",
      "11   65    5500  High\n",
      "Class\n",
      "Low     7\n",
      "High    7\n",
      "Name: count, dtype: int64\n"
     ]
    }
   ],
   "source": [
    "df_bal=pd.concat([up_sample,df_high])\n",
    "print(df_bal)\n",
    "print(df_bal['Class'].value_counts())"
   ]
  },
  {
   "cell_type": "markdown",
   "id": "b7b033ee-01ac-4edc-9b41-cebf5074cbd5",
   "metadata": {},
   "source": [
    " # SMOTE(Synthetic Minority Over-sampling Technique)"
   ]
  },
  {
   "cell_type": "markdown",
   "id": "833d15f5-037c-44df-9127-74e009dc581a",
   "metadata": {},
   "source": [
    "1.SMOTE to generate synthetic samples instead of duplicating existing ones\n",
    "\n",
    "2.Convert categorical class labels into numeric form for SMOTE to work\n",
    "\n",
    "3.Apply SMOTE to balance the dataset \n",
    "\n",
    "4.Convert back to original categorical values\n",
    "\n",
    "5.Combine the resampled data into final balanced dataset"
   ]
  },
  {
   "cell_type": "code",
   "execution_count": 24,
   "id": "f7a233f4-110d-471e-8de7-2abf8bf44161",
   "metadata": {},
   "outputs": [
    {
     "name": "stdout",
     "output_type": "stream",
     "text": [
      "Requirement already satisfied: imblearn in c:\\users\\cvr\\appdata\\local\\programs\\python\\python311\\lib\\site-packages (0.0)\n",
      "Requirement already satisfied: imbalanced-learn in c:\\users\\cvr\\appdata\\local\\programs\\python\\python311\\lib\\site-packages (from imblearn) (0.13.0)\n",
      "Requirement already satisfied: numpy<3,>=1.24.3 in c:\\users\\cvr\\appdata\\local\\programs\\python\\python311\\lib\\site-packages (from imbalanced-learn->imblearn) (1.26.4)\n",
      "Requirement already satisfied: scipy<2,>=1.10.1 in c:\\users\\cvr\\appdata\\local\\programs\\python\\python311\\lib\\site-packages (from imbalanced-learn->imblearn) (1.15.1)\n",
      "Requirement already satisfied: scikit-learn<2,>=1.3.2 in c:\\users\\cvr\\appdata\\local\\programs\\python\\python311\\lib\\site-packages (from imbalanced-learn->imblearn) (1.6.1)\n",
      "Requirement already satisfied: sklearn-compat<1,>=0.1 in c:\\users\\cvr\\appdata\\local\\programs\\python\\python311\\lib\\site-packages (from imbalanced-learn->imblearn) (0.1.3)\n",
      "Requirement already satisfied: joblib<2,>=1.1.1 in c:\\users\\cvr\\appdata\\local\\programs\\python\\python311\\lib\\site-packages (from imbalanced-learn->imblearn) (1.4.2)\n",
      "Requirement already satisfied: threadpoolctl<4,>=2.0.0 in c:\\users\\cvr\\appdata\\local\\programs\\python\\python311\\lib\\site-packages (from imbalanced-learn->imblearn) (3.5.0)\n"
     ]
    },
    {
     "name": "stderr",
     "output_type": "stream",
     "text": [
      "\n",
      "[notice] A new release of pip is available: 24.3.1 -> 25.0\n",
      "[notice] To update, run: python.exe -m pip install --upgrade pip\n"
     ]
    }
   ],
   "source": [
    "!pip install imblearn"
   ]
  },
  {
   "cell_type": "code",
   "execution_count": 26,
   "id": "5706228d-d73e-48f0-b292-2af752e6ea97",
   "metadata": {},
   "outputs": [
    {
     "name": "stdout",
     "output_type": "stream",
     "text": [
      "Requirement already satisfied: pip in c:\\users\\cvr\\appdata\\local\\programs\\python\\python311\\lib\\site-packages (24.3.1)\n",
      "Collecting pip\n",
      "  Downloading pip-25.0-py3-none-any.whl.metadata (3.7 kB)\n",
      "Downloading pip-25.0-py3-none-any.whl (1.8 MB)\n",
      "   ---------------------------------------- 0.0/1.8 MB ? eta -:--:--\n",
      "   ----- ---------------------------------- 0.3/1.8 MB ? eta -:--:--\n",
      "   ---------------------------------- ----- 1.6/1.8 MB 6.5 MB/s eta 0:00:01\n",
      "   ---------------------------------------- 1.8/1.8 MB 6.3 MB/s eta 0:00:00\n",
      "Installing collected packages: pip\n",
      "  Attempting uninstall: pip\n",
      "    Found existing installation: pip 24.3.1\n",
      "    Uninstalling pip-24.3.1:\n",
      "      Successfully uninstalled pip-24.3.1\n",
      "Successfully installed pip-25.0\n",
      "Note: you may need to restart the kernel to use updated packages.\n"
     ]
    }
   ],
   "source": [
    "pip install --upgrade pip"
   ]
  },
  {
   "cell_type": "code",
   "execution_count": 29,
   "id": "786275f3-3f65-4731-ab24-a5c43982ac96",
   "metadata": {},
   "outputs": [],
   "source": [
    "import pandas as pd\n",
    "from imblearn.over_sampling import SMOTE"
   ]
  },
  {
   "cell_type": "code",
   "execution_count": 36,
   "id": "f139a482-4fbd-4a7d-82d1-bf34abc91278",
   "metadata": {},
   "outputs": [
    {
     "name": "stdout",
     "output_type": "stream",
     "text": [
      "Class\n",
      "min    9\n",
      "maj    9\n",
      "Name: count, dtype: int64\n",
      "    Age  Income Class\n",
      "0    22    2000   min\n",
      "1    25    2500   maj\n",
      "2    27    2700   maj\n",
      "3    28    3200   maj\n",
      "4    30    3500   maj\n",
      "5    35    3800   min\n",
      "6    40    4000   min\n",
      "7    45    4200   min\n",
      "8    50    4300   maj\n",
      "9    55    4500   maj\n",
      "10   60    5000   maj\n",
      "11   65    5500   maj\n",
      "12   70    6000   maj\n",
      "13   40    4031   min\n",
      "14   35    3831   min\n",
      "15   44    4176   min\n",
      "16   35    3826   min\n",
      "17   41    4040   min\n"
     ]
    }
   ],
   "source": [
    "sm_df = pd.DataFrame({\n",
    "   'Age': [22, 25, 27, 28, 30, 35, 40, 45, 50, 55, 60, 65, 70],\n",
    "   'Income': [2000, 2500, 2700, 3200, 3500, 3800, 4000, 4200, 4300, 4500, 5000, 5500, 6000],\n",
    "   'Class': ['min', 'maj', 'maj', 'maj', 'maj', 'min', 'min', 'min', 'maj', 'maj', 'maj', 'maj', 'maj']\n",
    "})\n",
    "\n",
    "sm_df['Class'] = sm_df['Class'].map({'min': 0, 'maj': 1})\n",
    "\n",
    "# Separate the features (X) and target (y)\n",
    "X = sm_df[['Age', 'Income']]  # Features\n",
    "y = sm_df['Class']            # Target\n",
    "\n",
    "# Initialize SMOTE\n",
    "smote = SMOTE(sampling_strategy='auto', random_state=42, k_neighbors=3)\n",
    "\n",
    "# Apply SMOTE to resample the data\n",
    "X_sampled, y_sampled = smote.fit_resample(X, y)\n",
    "\n",
    "# Map the resampled y values back to 'min' and 'maj'\n",
    "y_sampled = y_sampled.map({0: 'min', 1: 'maj'})\n",
    "\n",
    "# Concatenate the resampled features and target back into a DataFrame\n",
    "df_balanced = pd.concat([pd.DataFrame(X_sampled, columns=['Age', 'Income']), pd.DataFrame(y_sampled, columns=['Class'])], axis=1)\n",
    "\n",
    "# Print the class distribution after SMOTE\n",
    "print(df_balanced['Class'].value_counts())\n",
    "\n",
    "# Print the balanced DataFrame\n",
    "print(df_balanced)\n"
   ]
  },
  {
   "cell_type": "code",
   "execution_count": null,
   "id": "7af1ba0c-321b-463c-936b-0b89dbc61d62",
   "metadata": {},
   "outputs": [],
   "source": []
  }
 ],
 "metadata": {
  "kernelspec": {
   "display_name": "Python 3 (ipykernel)",
   "language": "python",
   "name": "python3"
  },
  "language_info": {
   "codemirror_mode": {
    "name": "ipython",
    "version": 3
   },
   "file_extension": ".py",
   "mimetype": "text/x-python",
   "name": "python",
   "nbconvert_exporter": "python",
   "pygments_lexer": "ipython3",
   "version": "3.11.0"
  }
 },
 "nbformat": 4,
 "nbformat_minor": 5
}
