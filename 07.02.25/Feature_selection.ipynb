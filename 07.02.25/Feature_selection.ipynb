{
 "cells": [
  {
   "cell_type": "markdown",
   "id": "047b6da4-0541-4eec-8bb7-f10e381aa229",
   "metadata": {},
   "source": [
    "**What is Feature Selection?**\n",
    " \n",
    "        Feature selection is the process of choosing the most important features (variables) from a dataset to improve a machine learning model's performance and efficiency. Instead of using all the features, we select only the most relevant ones that contribute significantly to predictions.\n",
    "        "
   ]
  },
  {
   "cell_type": "markdown",
   "id": "8306196d-a628-44a8-b9a7-c5a5126d1f81",
   "metadata": {},
   "source": [
    "**Why Do We Need Feature Selection?**\n",
    " \n",
    "*1.Reduces Overfitting 📉*\n",
    " \n",
    "        Too many irrelevant features can make a model complex and cause it to overfit the training data.\n",
    "\n",
    "*2.Improves Model Performance 🚀*\n",
    " \n",
    "        Selecting relevant features boosts accuracy and reduces unnecessary noise in the data.\n",
    "\n",
    "*3.Reduces Training Time ⏳*\n",
    " \n",
    "        Fewer features mean faster model training and lower computational cost.\n",
    "\n",
    "*4.Enhances Interpretability 🔍*\n",
    " \n",
    "        Helps in understanding which features actually impact predictions.\n",
    " \n",
    " "
   ]
  },
  {
   "cell_type": "markdown",
   "id": "bc366301-1a57-4849-a170-56b136cad281",
   "metadata": {},
   "source": [
    "**Types of Feature Selection Methods**"
   ]
  },
  {
   "cell_type": "markdown",
   "id": "f512065a-09a5-4ad7-a9c0-43f95db692f3",
   "metadata": {},
   "source": [
    "<ins>*Type => Filter Methods:*</ins>\n",
    " \n",
    "Method => Correlation, Chi-Square, Mutual Information.\n",
    " \n",
    "Description => Rank features based on statistical tests.\n",
    " \n",
    "<ins>*Type => Wrapper Methods:*</ins>\n",
    " \n",
    "Method => Forward/Backward Selection, Recursive Feature Elimination (RFE)\n",
    " \n",
    "Description => Train models with different feature subsets and select the best.\n",
    " \n",
    "<ins>*Type => Embedded Methods*</ins>\n",
    " \n",
    "Method =>Lasso Regression, Decision Trees\n",
    " \n",
    "Description =>Feature selection is built into the model training process.\n",
    " "
   ]
  },
  {
   "cell_type": "code",
   "execution_count": 2,
   "id": "c1cf46a6-03ad-4d1e-b2c0-31257b16ea6f",
   "metadata": {},
   "outputs": [],
   "source": [
    "import pandas as pd\n",
    "import numpy as np\n",
    "from sklearn.model_selection import train_test_split\n",
    "from sklearn.ensemble import RandomForestRegressor\n",
    "from sklearn.feature_selection import RFE\n",
    "import seaborn as sns\n",
    "from sklearn.linear_model import Lasso\n",
    "import matplotlib.pyplot as plt"
   ]
  },
  {
   "cell_type": "code",
   "execution_count": 4,
   "id": "4b2f32e5-ea77-4965-a94c-21366e1b49c3",
   "metadata": {},
   "outputs": [],
   "source": [
    "np.random.seed(42)\n",
    "data= pd.DataFrame({\n",
    "    'Size':np.random.randint(1000,5000,100),\n",
    "    'Age':np.random.randint(1,50,100),\n",
    "    'BedRooms':np.random.randint(1,5,100),\n",
    "    'Price':np.random.randint(100000,500000,100),\n",
    "})"
   ]
  },
  {
   "cell_type": "code",
   "execution_count": 5,
   "id": "917f1565-d4ee-4ec0-ad0c-8d9338f64afc",
   "metadata": {},
   "outputs": [
    {
     "data": {
      "text/html": [
       "<div>\n",
       "<style scoped>\n",
       "    .dataframe tbody tr th:only-of-type {\n",
       "        vertical-align: middle;\n",
       "    }\n",
       "\n",
       "    .dataframe tbody tr th {\n",
       "        vertical-align: top;\n",
       "    }\n",
       "\n",
       "    .dataframe thead th {\n",
       "        text-align: right;\n",
       "    }\n",
       "</style>\n",
       "<table border=\"1\" class=\"dataframe\">\n",
       "  <thead>\n",
       "    <tr style=\"text-align: right;\">\n",
       "      <th></th>\n",
       "      <th>Size</th>\n",
       "      <th>Age</th>\n",
       "      <th>BedRooms</th>\n",
       "      <th>Price</th>\n",
       "    </tr>\n",
       "  </thead>\n",
       "  <tbody>\n",
       "    <tr>\n",
       "      <th>0</th>\n",
       "      <td>4174</td>\n",
       "      <td>18</td>\n",
       "      <td>2</td>\n",
       "      <td>189045</td>\n",
       "    </tr>\n",
       "    <tr>\n",
       "      <th>1</th>\n",
       "      <td>4507</td>\n",
       "      <td>26</td>\n",
       "      <td>2</td>\n",
       "      <td>134698</td>\n",
       "    </tr>\n",
       "    <tr>\n",
       "      <th>2</th>\n",
       "      <td>1860</td>\n",
       "      <td>44</td>\n",
       "      <td>1</td>\n",
       "      <td>210078</td>\n",
       "    </tr>\n",
       "    <tr>\n",
       "      <th>3</th>\n",
       "      <td>2294</td>\n",
       "      <td>34</td>\n",
       "      <td>2</td>\n",
       "      <td>442767</td>\n",
       "    </tr>\n",
       "    <tr>\n",
       "      <th>4</th>\n",
       "      <td>2130</td>\n",
       "      <td>10</td>\n",
       "      <td>1</td>\n",
       "      <td>122671</td>\n",
       "    </tr>\n",
       "  </tbody>\n",
       "</table>\n",
       "</div>"
      ],
      "text/plain": [
       "   Size  Age  BedRooms   Price\n",
       "0  4174   18         2  189045\n",
       "1  4507   26         2  134698\n",
       "2  1860   44         1  210078\n",
       "3  2294   34         2  442767\n",
       "4  2130   10         1  122671"
      ]
     },
     "execution_count": 5,
     "metadata": {},
     "output_type": "execute_result"
    }
   ],
   "source": [
    "data.head()"
   ]
  },
  {
   "cell_type": "markdown",
   "id": "60854fdd-2f5b-4c9b-9204-5f3f264e0d17",
   "metadata": {},
   "source": [
    "# Filter Method"
   ]
  },
  {
   "cell_type": "code",
   "execution_count": 7,
   "id": "96e1b623-65da-47c2-8156-12cf613a5730",
   "metadata": {},
   "outputs": [
    {
     "data": {
      "text/html": [
       "<div>\n",
       "<style scoped>\n",
       "    .dataframe tbody tr th:only-of-type {\n",
       "        vertical-align: middle;\n",
       "    }\n",
       "\n",
       "    .dataframe tbody tr th {\n",
       "        vertical-align: top;\n",
       "    }\n",
       "\n",
       "    .dataframe thead th {\n",
       "        text-align: right;\n",
       "    }\n",
       "</style>\n",
       "<table border=\"1\" class=\"dataframe\">\n",
       "  <thead>\n",
       "    <tr style=\"text-align: right;\">\n",
       "      <th></th>\n",
       "      <th>Size</th>\n",
       "      <th>Age</th>\n",
       "      <th>BedRooms</th>\n",
       "      <th>Price</th>\n",
       "    </tr>\n",
       "  </thead>\n",
       "  <tbody>\n",
       "    <tr>\n",
       "      <th>Size</th>\n",
       "      <td>1.000000</td>\n",
       "      <td>0.096164</td>\n",
       "      <td>0.032047</td>\n",
       "      <td>0.067964</td>\n",
       "    </tr>\n",
       "    <tr>\n",
       "      <th>Age</th>\n",
       "      <td>0.096164</td>\n",
       "      <td>1.000000</td>\n",
       "      <td>0.052126</td>\n",
       "      <td>-0.127975</td>\n",
       "    </tr>\n",
       "    <tr>\n",
       "      <th>BedRooms</th>\n",
       "      <td>0.032047</td>\n",
       "      <td>0.052126</td>\n",
       "      <td>1.000000</td>\n",
       "      <td>-0.134591</td>\n",
       "    </tr>\n",
       "    <tr>\n",
       "      <th>Price</th>\n",
       "      <td>0.067964</td>\n",
       "      <td>-0.127975</td>\n",
       "      <td>-0.134591</td>\n",
       "      <td>1.000000</td>\n",
       "    </tr>\n",
       "  </tbody>\n",
       "</table>\n",
       "</div>"
      ],
      "text/plain": [
       "              Size       Age  BedRooms     Price\n",
       "Size      1.000000  0.096164  0.032047  0.067964\n",
       "Age       0.096164  1.000000  0.052126 -0.127975\n",
       "BedRooms  0.032047  0.052126  1.000000 -0.134591\n",
       "Price     0.067964 -0.127975 -0.134591  1.000000"
      ]
     },
     "execution_count": 7,
     "metadata": {},
     "output_type": "execute_result"
    }
   ],
   "source": [
    "corr_matrix=data.corr()\n",
    "corr_matrix"
   ]
  },
  {
   "cell_type": "code",
   "execution_count": 11,
   "id": "cb78dc9f-b4e4-45d5-b868-f92796f14758",
   "metadata": {},
   "outputs": [
    {
     "data": {
      "image/png": "[encoded data removed]",
      "text/plain": [
       "<Figure size 640x480 with 2 Axes>"
      ]
     },
     "metadata": {},
     "output_type": "display_data"
    }
   ],
   "source": [
    "sns.heatmap(corr_matrix,annot=True,cmap='Oranges',fmt='.2f')\n",
    "plt.show()"
   ]
  },
  {
   "cell_type": "markdown",
   "id": "a9e760f7-1e4b-46fb-8d6e-812e8bf5a8c4",
   "metadata": {},
   "source": [
    "# Wrapper Method\n",
    "**Select top 2 features**"
   ]
  },
  {
   "cell_type": "code",
   "execution_count": 12,
   "id": "8e2fc8f4-1661-49c2-8ce4-3427ac94f2fd",
   "metadata": {},
   "outputs": [
    {
     "name": "stdout",
     "output_type": "stream",
     "text": [
      "Selected features using rfe: Index(['Size', 'Age'], dtype='object')\n"
     ]
    }
   ],
   "source": [
    "x=data.drop(columns=['Price'])\n",
    "y=data['Price']\n",
    "model = RandomForestRegressor()\n",
    "rfe=RFE(model,n_features_to_select=2)\n",
    "x_sel=rfe.fit_transform(x,y)\n",
    "print('Selected features using rfe:',x.columns[rfe.support_])"
   ]
  },
  {
   "cell_type": "markdown",
   "id": "0364f35b-f49f-40c9-b863-bb26a9bdaa54",
   "metadata": {},
   "source": [
    "# Embedded Method"
   ]
  },
  {
   "cell_type": "code",
   "execution_count": 14,
   "id": "80bb9b10-b7cb-4a7c-a7a7-cd4b67032298",
   "metadata": {},
   "outputs": [
    {
     "name": "stdout",
     "output_type": "stream",
     "text": [
      "Selected features using lasso: Index(['Size', 'Age', 'BedRooms'], dtype='object')\n"
     ]
    }
   ],
   "source": [
    "lasso = Lasso(alpha=0.1)  # Initialize Lasso regression with a regularization parameter alpha\n",
    "lasso.fit(x, y)  # Fit the Lasso model to the data\n",
    "imp = np.abs(lasso.coef_)  # Get the absolute values of the model coefficients\n",
    "sel_fea = x.columns[imp > 0]  # Select the features whose coefficients are non-zero\n",
    "print('Selected features using lasso:', sel_fea)\n"
   ]
  },
  {
   "cell_type": "code",
   "execution_count": null,
   "id": "d529dc14-c088-4e49-9b7f-5ae9c11c8586",
   "metadata": {},
   "outputs": [],
   "source": []
  }
 ],
 "metadata": {
  "kernelspec": {
   "display_name": "Python 3 (ipykernel)",
   "language": "python",
   "name": "python3"
  },
  "language_info": {
   "codemirror_mode": {
    "name": "ipython",
    "version": 3
   },
   "file_extension": ".py",
   "mimetype": "text/x-python",
   "name": "python",
   "nbconvert_exporter": "python",
   "pygments_lexer": "ipython3",
   "version": "3.11.0"
  }
 },
 "nbformat": 4,
 "nbformat_minor": 5
}
