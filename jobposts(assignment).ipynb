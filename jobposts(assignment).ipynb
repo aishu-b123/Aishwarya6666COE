{
 "cells": [
  {
   "cell_type": "code",
   "execution_count": 12,
   "id": "bc4ebfa3-e0b0-47f1-947f-fb1eb3c0c9bf",
   "metadata": {},
   "outputs": [],
   "source": [
    "import pandas as pd"
   ]
  },
  {
   "cell_type": "code",
   "execution_count": 13,
   "id": "bfb48535-96d8-4092-a108-027997457124",
   "metadata": {},
   "outputs": [
    {
     "name": "stdout",
     "output_type": "stream",
     "text": [
      "                                             jobpost          date  \\\n",
      "0  AMERIA Investment Consulting Company\\r\\nJOB TI...   Jan 5, 2004   \n",
      "1  International Research & Exchanges Board (IREX...   Jan 7, 2004   \n",
      "2  Caucasus Environmental NGO Network (CENN)\\r\\nJ...   Jan 7, 2004   \n",
      "3  Manoff Group\\r\\nJOB TITLE:  BCC Specialist\\r\\n...   Jan 7, 2004   \n",
      "4  Yerevan Brandy Company\\r\\nJOB TITLE:  Software...  Jan 10, 2004   \n",
      "\n",
      "                                               Title  \\\n",
      "0                            Chief Financial Officer   \n",
      "1  Full-time Community Connections Intern (paid i...   \n",
      "2                                Country Coordinator   \n",
      "3                                     BCC Specialist   \n",
      "4                                 Software Developer   \n",
      "\n",
      "                                           Company AnnouncementCode Term  \\\n",
      "0             AMERIA Investment Consulting Company              NaN  NaN   \n",
      "1  International Research & Exchanges Board (IREX)              NaN  NaN   \n",
      "2        Caucasus Environmental NGO Network (CENN)              NaN  NaN   \n",
      "3                                     Manoff Group              NaN  NaN   \n",
      "4                           Yerevan Brandy Company              NaN  NaN   \n",
      "\n",
      "  Eligibility Audience StartDate                               Duration  ...  \\\n",
      "0         NaN      NaN       NaN                                    NaN  ...   \n",
      "1         NaN      NaN       NaN                               3 months  ...   \n",
      "2         NaN      NaN       NaN  Renewable annual contract\\r\\nPOSITION  ...   \n",
      "3         NaN      NaN       NaN                                    NaN  ...   \n",
      "4         NaN      NaN       NaN                                    NaN  ...   \n",
      "\n",
      "  Salary                                       ApplicationP OpeningDate  \\\n",
      "0    NaN  To apply for this position, please submit a\\r\\...         NaN   \n",
      "1    NaN  Please submit a cover letter and resume to:\\r\\...         NaN   \n",
      "2    NaN  Please send resume or CV toursula.kazarian@......         NaN   \n",
      "3    NaN  Please send cover letter and resume to Amy\\r\\n...         NaN   \n",
      "4    NaN  Successful candidates should submit\\r\\n- CV; \\...         NaN   \n",
      "\n",
      "                                        Deadline Notes  \\\n",
      "0                                26 January 2004   NaN   \n",
      "1                                12 January 2004   NaN   \n",
      "2  20 January 2004\\r\\nSTART DATE:  February 2004   NaN   \n",
      "3      23 January 2004\\r\\nSTART DATE:  Immediate   NaN   \n",
      "4                         20 January 2004, 18:00   NaN   \n",
      "\n",
      "                                              AboutC Attach  Year Month     IT  \n",
      "0                                                NaN    NaN  2004     1  False  \n",
      "1  The International Research & Exchanges Board (...    NaN  2004     1  False  \n",
      "2  The Caucasus Environmental NGO Network is a\\r\\...    NaN  2004     1  False  \n",
      "3                                                NaN    NaN  2004     1  False  \n",
      "4                                                NaN    NaN  2004     1   True  \n",
      "\n",
      "[5 rows x 24 columns]\n"
     ]
    }
   ],
   "source": [
    "job=pd.read_csv(\"C:\\\\Users\\\\CVR\\Desktop\\\\6666coe\\\\Aishwarya6666COE\\\\Jobpostingdataset\\\\data job posts.csv\")\n",
    "print(job.head())"
   ]
  },
  {
   "cell_type": "code",
   "execution_count": 14,
   "id": "cbcdd241-ce90-420b-8fe2-0459cf86664c",
   "metadata": {},
   "outputs": [
    {
     "data": {
      "text/plain": [
       "jobpost                 0\n",
       "date                    0\n",
       "Title                  28\n",
       "Company                 7\n",
       "AnnouncementCode    17793\n",
       "Term                11325\n",
       "Eligibility         14071\n",
       "Audience            18361\n",
       "StartDate            9326\n",
       "Duration             8203\n",
       "Location               32\n",
       "JobDescription       3892\n",
       "JobRequirment        2522\n",
       "RequiredQual          484\n",
       "Salary               9379\n",
       "ApplicationP           60\n",
       "OpeningDate           706\n",
       "Deadline               65\n",
       "Notes               16790\n",
       "AboutC               6531\n",
       "Attach              17442\n",
       "Year                    0\n",
       "Month                   0\n",
       "IT                      0\n",
       "dtype: int64"
      ]
     },
     "execution_count": 14,
     "metadata": {},
     "output_type": "execute_result"
    }
   ],
   "source": [
    "job.isna().sum()"
   ]
  },
  {
   "cell_type": "code",
   "execution_count": 15,
   "id": "06a2cbbf-35cc-4367-a251-130b4c7650bd",
   "metadata": {},
   "outputs": [
    {
     "name": "stdout",
     "output_type": "stream",
     "text": [
      "39\n",
      "0\n"
     ]
    }
   ],
   "source": [
    "print(job.duplicated().sum())\n",
    "job=job.drop_duplicates()\n",
    "print(job.duplicated().sum())"
   ]
  },
  {
   "cell_type": "code",
   "execution_count": 16,
   "id": "f50ff67f-ed15-4341-a8fa-a0b31b92ba4c",
   "metadata": {},
   "outputs": [],
   "source": [
    "job.drop(columns=['AnnouncementCode','Attach','Notes'], axis=1, inplace=True)"
   ]
  },
  {
   "cell_type": "code",
   "execution_count": 17,
   "id": "92eae529-85e8-41c2-9c77-8e2952ae7d3a",
   "metadata": {},
   "outputs": [
    {
     "data": {
      "text/plain": [
       "jobpost           object\n",
       "date              object\n",
       "Title             object\n",
       "Company           object\n",
       "Term              object\n",
       "Eligibility       object\n",
       "Audience          object\n",
       "StartDate         object\n",
       "Duration          object\n",
       "Location          object\n",
       "JobDescription    object\n",
       "JobRequirment     object\n",
       "RequiredQual      object\n",
       "Salary            object\n",
       "ApplicationP      object\n",
       "OpeningDate       object\n",
       "Deadline          object\n",
       "AboutC            object\n",
       "Year               int64\n",
       "Month              int64\n",
       "IT                  bool\n",
       "dtype: object"
      ]
     },
     "execution_count": 17,
     "metadata": {},
     "output_type": "execute_result"
    }
   ],
   "source": [
    "job.dtypes"
   ]
  },
  {
   "cell_type": "code",
   "execution_count": 18,
   "id": "94f2a0a4-1f31-4d25-856b-8ce870b4270b",
   "metadata": {},
   "outputs": [],
   "source": [
    "job['Term']=job['Term'].fillna(job['Term'].mode()[0])\n",
    "job['Eligibility']=job['Eligibility'].fillna(job['Eligibility'].mode()[0])\n",
    "job['Audience']=job['Audience'].fillna(job['Audience'].mode()[0])\n",
    "job['Location']=job['Location'].fillna(job['Location'].mode()[0])\n",
    "job['RequiredQual']=job['RequiredQual'].fillna(job['RequiredQual'].mode()[0])\n",
    "job['JobDescription']=job['JobDescription'].fillna(job['JobDescription'].mode()[0])\n",
    "job['JobRequirment']=job['JobRequirment'].fillna(job['JobRequirment'].mode()[0])\n",
    "job['ApplicationP']=job['ApplicationP'].fillna(job['ApplicationP'].mode()[0])"
   ]
  },
  {
   "cell_type": "code",
   "execution_count": 19,
   "id": "876a68bd-c4aa-4824-8eb6-35c3d5c1f780",
   "metadata": {},
   "outputs": [],
   "source": [
    "import re\n",
    "def clean_text(text):\n",
    "    # Remove HTML tags\n",
    "    text = re.sub(r'<.*?>', '', text)\n",
    "    text = re.sub(r'[^a-zA-Z0-9\\s]', '', text)\n",
    "    # Remove excessive whitespace\n",
    "    text = re.sub(r'\\s+', ' ', text).strip()\n",
    "    return text\n",
    "job['JobDescription'] = job['JobDescription'].apply(clean_text)\n",
    "job['JobRequirment'] = job['JobRequirment'].apply(clean_text)\n"
   ]
  },
  {
   "cell_type": "code",
   "execution_count": 23,
   "id": "371af419-bc3e-48a9-a080-5c90275e4fbb",
   "metadata": {},
   "outputs": [
    {
     "name": "stdout",
     "output_type": "stream",
     "text": [
      "Collecting nltk\n",
      "  Downloading nltk-3.9.1-py3-none-any.whl.metadata (2.9 kB)\n",
      "Collecting click (from nltk)\n",
      "  Downloading click-8.1.8-py3-none-any.whl.metadata (2.3 kB)\n",
      "Requirement already satisfied: joblib in c:\\users\\cvr\\appdata\\local\\programs\\python\\python311\\lib\\site-packages (from nltk) (1.4.2)\n",
      "Collecting regex>=2021.8.3 (from nltk)\n",
      "  Downloading regex-2024.11.6-cp311-cp311-win_amd64.whl.metadata (41 kB)\n",
      "Collecting tqdm (from nltk)\n",
      "  Downloading tqdm-4.67.1-py3-none-any.whl.metadata (57 kB)\n",
      "Requirement already satisfied: colorama in c:\\users\\cvr\\appdata\\roaming\\python\\python311\\site-packages (from click->nltk) (0.4.6)\n",
      "Downloading nltk-3.9.1-py3-none-any.whl (1.5 MB)\n",
      "   ---------------------------------------- 0.0/1.5 MB ? eta -:--:--\n",
      "   ---------------------------------------- 1.5/1.5 MB 13.4 MB/s eta 0:00:00\n",
      "Downloading regex-2024.11.6-cp311-cp311-win_amd64.whl (274 kB)\n",
      "Downloading click-8.1.8-py3-none-any.whl (98 kB)\n",
      "Downloading tqdm-4.67.1-py3-none-any.whl (78 kB)\n",
      "Installing collected packages: tqdm, regex, click, nltk\n",
      "Successfully installed click-8.1.8 nltk-3.9.1 regex-2024.11.6 tqdm-4.67.1\n",
      "Note: you may need to restart the kernel to use updated packages.\n"
     ]
    },
    {
     "name": "stderr",
     "output_type": "stream",
     "text": [
      "\n",
      "[notice] A new release of pip is available: 24.3.1 -> 25.0\n",
      "[notice] To update, run: python.exe -m pip install --upgrade pip\n"
     ]
    }
   ],
   "source": [
    "pip install nltk\n"
   ]
  },
  {
   "cell_type": "code",
   "execution_count": 25,
   "id": "2ee71f11-2c74-4bd4-82f6-f262a852754b",
   "metadata": {},
   "outputs": [
    {
     "name": "stderr",
     "output_type": "stream",
     "text": [
      "[nltk_data] Downloading package punkt_tab to\n",
      "[nltk_data]     C:\\Users\\CVR\\AppData\\Roaming\\nltk_data...\n",
      "[nltk_data]   Unzipping tokenizers\\punkt_tab.zip.\n"
     ]
    }
   ],
   "source": [
    "import nltk\n",
    "nltk.download('punkt_tab')\n",
    "from nltk.tokenize import word_tokenize\n",
    "job['JobDescription'] = job['JobDescription'].apply(lambda x: word_tokenize(x.lower()))\n",
    "job['JobRequirment'] = job['JobRequirment'].apply(lambda x: word_tokenize(x.lower()))\n"
   ]
  },
  {
   "cell_type": "code",
   "execution_count": 26,
   "id": "86da2c1f-a7b6-4b44-89e3-786c151a394e",
   "metadata": {},
   "outputs": [
    {
     "data": {
      "text/plain": [
       "JobDescription\n",
       "[the, incumbent, will, work, under, the, direct, supervision, of, the, company, president, and, be, primarily, responsible, for, covering, the, front, desk]                                                                                                                                                                                                                                                                                                                                                                                                                                                      3951\n",
       "[under, the, direct, supervision, of, the, company, president, and, in, association, with, the, contracted, accounting, company, the, selected, candidate, will, perform, routine, accounting, as, well, as, some, administrative, duties]                                                                                                                                                                                                                                                                                                                                                                          37\n",
       "[the, primary, objective, of, this, position, is, to, produce, required, product, in, conjunction, with, team, members, insuring, it, is, of, high, quality, and, is, timely]                                                                                                                                                                                                                                                                                                                                                                                                                                       28\n",
       "[the, incumbent, will, be, responsible, for, unit, test, development, and, code, specification, writing]                                                                                                                                                                                                                                                                                                                                                                                                                                                                                                            23\n",
       "[epam, systems, is, actively, looking, for, java, developers, for, complex, and, longterm, projects, the, position, entails, working, with, sun, and, ibm, products, portal, solutions, the, latest, java, technologies]                                                                                                                                                                                                                                                                                                                                                                                            22\n",
       "                                                                                                                                                                                                                                                                                                                                                                                                                                                                                                                                                                                                                  ... \n",
       "[this, position, will, manage, the, developmentimplementation, of, housing, finance, projects, which, will, direct, housing, capital, to, families, who, do, not, have, access, to, affordable, housing, credit, in, armenia, the, incumbent, will, report, to, the, executive, director]                                                                                                                                                                                                                                                                                                                            1\n",
       "[the, incumbent, will, be, responsible, for, the, development, implementation, monitoring, from, a, technical, perspective, construction, programs, supervised, by, the, national, office, no, ensuring, that, the, projects, meet, the, habitat, standards, of, simple, decent, and, affordable, sdathe, incumbent, will, report, to, the, executive, director]                                                                                                                                                                                                                                                     1\n",
       "[the, telecom, technician, is, responsible, for, supervision, of, the, bss, base, station, subsystem, implementation, process]                                                                                                                                                                                                                                                                                                                                                                                                                                                                                       1\n",
       "[undpgef, armenia, improving, the, energy, efficiency, of, municipal, heating, and, hot, water, supply, project, under, the, overall, supervision, of, the, project, national, coordinator, and, the, direct, supervision, of, project, manager, and, as, a, member, of, the, project, implementation, team, the, incumbent, will, support, the, project, team, and, corresponding, national, counterparts, in, identification, of, legal, and, regulatory, barriers, for, implementation, of, energy, efficiency, measures, and, make, recommendation, on, required, changes, in, the, national, legislation]       1\n",
       "[kamurj, uco, cjsc, is, looking, for, a, lawyer, in, legal, department, the, incumbent, will, mainly, be, responsible, for, the, organizations, internal, legal, service, the, development, of, the, internal, regulation, projects, adopted, by, the, board, of, the, organization, supporting, in, the, functions, of, the, board, as, well, as, proper, implementation, of, other, functions, related, to, the, office, work]                                                                                                                                                                                     1\n",
       "Name: count, Length: 12623, dtype: int64"
      ]
     },
     "execution_count": 26,
     "metadata": {},
     "output_type": "execute_result"
    }
   ],
   "source": [
    "job['JobDescription'].value_counts()"
   ]
  },
  {
   "cell_type": "code",
   "execution_count": 27,
   "id": "7766b2c2-8e41-49bd-9552-6eebd087e8bb",
   "metadata": {},
   "outputs": [],
   "source": [
    "skills_list = ['python', 'java', 'sql', 'javascript', 'html', 'css', 'c++', 'machine learning', 'data analysis', 'r']\n",
    "def extract_skills(text, skills):\n",
    "    found_skills = [skill for skill in skills if skill in text]\n",
    "    return found_skills\n",
    "job['JobDescription_skills'] = job['JobDescription'].apply(lambda x: extract_skills(' '.join(x), skills_list))\n",
    "job['JobRequirment_skills'] = job['JobRequirment'].apply(lambda x: extract_skills(' '.join(x), skills_list))\n"
   ]
  },
  {
   "cell_type": "code",
   "execution_count": 29,
   "id": "d40e94e1-8ee7-4f47-99f1-28157e3450cc",
   "metadata": {},
   "outputs": [
    {
     "data": {
      "text/plain": [
       "JobDescription_skills\n",
       "[r]                                              18378\n",
       "[java, r]                                          303\n",
       "[sql, r]                                           125\n",
       "[data analysis, r]                                  35\n",
       "[]                                                  30\n",
       "[java, javascript, html, css, r]                    16\n",
       "[java, javascript, r]                               12\n",
       "[html, r]                                            9\n",
       "[css, r]                                             8\n",
       "[python, java, r]                                    7\n",
       "[html, css, r]                                       7\n",
       "[java, javascript, html, r]                          7\n",
       "[java, sql, javascript, r]                           6\n",
       "[java, javascript, css, r]                           6\n",
       "[java, sql, r]                                       3\n",
       "[python, r]                                          3\n",
       "[machine learning, r]                                2\n",
       "[java, sql, javascript, html, r]                     1\n",
       "[machine learning, data analysis, r]                 1\n",
       "[sql, html, r]                                       1\n",
       "[python, java, sql, javascript, html, css, r]        1\n",
       "[sql, html, css, r]                                  1\n",
       "Name: count, dtype: int64"
      ]
     },
     "execution_count": 29,
     "metadata": {},
     "output_type": "execute_result"
    }
   ],
   "source": [
    "job['JobDescription_skills'].value_counts()"
   ]
  },
  {
   "cell_type": "code",
   "execution_count": 30,
   "id": "c87de437-b03e-4923-8e58-516d84f3f656",
   "metadata": {},
   "outputs": [
    {
     "data": {
      "text/plain": [
       "JobRequirment_skills\n",
       "[r]                                      18444\n",
       "[sql, r]                                   130\n",
       "[data analysis, r]                          72\n",
       "[java, r]                                   70\n",
       "[java, javascript, html, css, r]            60\n",
       "[html, r]                                   30\n",
       "[html, css, r]                              29\n",
       "[]                                          18\n",
       "[java, sql, javascript, r]                  14\n",
       "[css, r]                                    13\n",
       "[java, sql, r]                              11\n",
       "[sql, html, r]                               9\n",
       "[java, javascript, html, r]                  9\n",
       "[java, javascript, r]                        8\n",
       "[python, r]                                  8\n",
       "[sql, data analysis, r]                      7\n",
       "[java, sql, javascript, html, r]             5\n",
       "[sql]                                        5\n",
       "[java]                                       4\n",
       "[java, sql, javascript, html, css, r]        4\n",
       "[java, sql, html, css, r]                    3\n",
       "[python, java, r]                            2\n",
       "[java, sql, javascript, css, r]              2\n",
       "[sql, html, css, r]                          2\n",
       "[java, sql, html, r]                         1\n",
       "[html, data analysis, r]                     1\n",
       "[java, html, r]                              1\n",
       "Name: count, dtype: int64"
      ]
     },
     "execution_count": 30,
     "metadata": {},
     "output_type": "execute_result"
    }
   ],
   "source": [
    "job['JobRequirment_skills'].value_counts()"
   ]
  },
  {
   "cell_type": "code",
   "execution_count": 32,
   "id": "a9a359bd-3acb-4096-b77a-bb03060226e8",
   "metadata": {},
   "outputs": [],
   "source": [
    "def normalize_title(title):\n",
    "    if isinstance(title, str):  \n",
    "        title_lower = title.lower()\n",
    "        for key, value in title_normalization.items():\n",
    "            if key in title_lower:\n",
    "                title_lower = title_lower.replace(key, value)\n",
    "        return title_lower\n",
    "    else:\n",
    "        return title  \n",
    "job['Title'] = job['Title'].apply(normalize_title)\n"
   ]
  },
  {
   "cell_type": "code",
   "execution_count": 33,
   "id": "d6d18bea-178b-41b9-88df-88b0841e16c0",
   "metadata": {},
   "outputs": [
    {
     "data": {
      "text/plain": [
       "Title\n",
       "accountant                                                       328\n",
       "chief accountant                                                 219\n",
       "medical representative                                           218\n",
       "sales manager                                                    166\n",
       "administrative assistant                                         156\n",
       "                                                                ... \n",
       "electrical appliances store director                               1\n",
       "research consultants                                               1\n",
       "national expert on legislation regulating relations in energy      1\n",
       "telecom technician                                                 1\n",
       "head of online sales department                                    1\n",
       "Name: count, Length: 8586, dtype: int64"
      ]
     },
     "execution_count": 33,
     "metadata": {},
     "output_type": "execute_result"
    }
   ],
   "source": [
    "job['Title'].value_counts()"
   ]
  },
  {
   "cell_type": "code",
   "execution_count": 36,
   "id": "02d42d2a-0172-4a82-8c76-8a5bb77c975a",
   "metadata": {},
   "outputs": [
    {
     "data": {
      "text/plain": [
       "modified_Term\n",
       "Full-Time                                                                 17835\n",
       "Part-Time                                                                   450\n",
       "Long-Term                                                                   138\n",
       "permanent                                                                    51\n",
       "full time salaried   40 hours per week                                       15\n",
       "                                                                          ...  \n",
       "six months with 2 month probation period (with possible\\r\\nextension).        1\n",
       "working hours: 09:00  19:00 from monday to friday.                            1\n",
       "long term with 1 month probation period.                                      1\n",
       "12 months   renewable                                                         1\n",
       "full time 40 48 hours per week; monday  saturday                              1\n",
       "Name: count, Length: 285, dtype: int64"
      ]
     },
     "execution_count": 36,
     "metadata": {},
     "output_type": "execute_result"
    }
   ],
   "source": [
    "import re\n",
    "def standardize_term(term):\n",
    "    term = term.lower().replace(\"-\", \" \") \n",
    "    if re.fullmatch(r'(?i)full[-\\s]?time|ft', term.strip()):\n",
    "        return \"Full-Time\"\n",
    "    elif re.fullmatch(r'(?i)long[-\\s]?term|ft', term.strip()):\n",
    "        return \"Long-Term\"\n",
    "    elif \"part\" in term:\n",
    "        return \"Part-Time\"\n",
    "    else:\n",
    "        return term\n",
    "job['modified_Term'] = job['Term'].apply(standardize_term)\n",
    "job['modified_Term'].value_counts()"
   ]
  },
  {
   "cell_type": "code",
   "execution_count": 40,
   "id": "2b044269-2e59-42c0-9aa1-6bb9913daee8",
   "metadata": {},
   "outputs": [
    {
     "name": "stdout",
     "output_type": "stream",
     "text": [
      "0   NaT\n",
      "1   NaT\n",
      "2   NaT\n",
      "3   NaT\n",
      "4   NaT\n",
      "Name: OpeningDate, dtype: datetime64[ns]\n",
      "0   2004-01-26\n",
      "1   2004-01-12\n",
      "2          NaT\n",
      "3          NaT\n",
      "4          NaT\n",
      "Name: Deadline, dtype: datetime64[ns]\n"
     ]
    }
   ],
   "source": [
    "job['OpeningDate'] = pd.to_datetime(job['OpeningDate'], format=\"%d %B %Y\",errors='coerce')\n",
    "print(job['OpeningDate'].head())\n",
    "\n",
    "job['Deadline'] = pd.to_datetime(job['Deadline'], format=\"%d %B %Y\",errors='coerce')\n",
    "print(job['Deadline'].head())\n"
   ]
  },
  {
   "cell_type": "code",
   "execution_count": 42,
   "id": "eac11fed-88c5-44bd-af61-321a9deb34d4",
   "metadata": {},
   "outputs": [
    {
     "data": {
      "text/plain": [
       "0         NaN\n",
       "1         NaN\n",
       "2         NaN\n",
       "3         NaN\n",
       "4         NaN\n",
       "         ... \n",
       "18996    30.0\n",
       "18997    21.0\n",
       "18998    21.0\n",
       "18999    30.0\n",
       "19000    21.0\n",
       "Name: DaysLeftToApply, Length: 18962, dtype: float64"
      ]
     },
     "execution_count": 42,
     "metadata": {},
     "output_type": "execute_result"
    }
   ],
   "source": [
    "job['DaysLeftToApply'] = (job['Deadline'] - job['OpeningDate']).dt.days\n",
    "job['DaysLeftToApply']"
   ]
  },
  {
   "cell_type": "code",
   "execution_count": 46,
   "id": "bd27031d-89a2-48dc-af41-1ecafb1d132c",
   "metadata": {},
   "outputs": [
    {
     "data": {
      "text/plain": [
       "jobpost                     0\n",
       "date                        0\n",
       "Title                      28\n",
       "Company                     7\n",
       "Term                        0\n",
       "Eligibility                 0\n",
       "Audience                    0\n",
       "StartDate                9309\n",
       "Duration                 8187\n",
       "Location                    0\n",
       "JobDescription              0\n",
       "JobRequirment               0\n",
       "RequiredQual                0\n",
       "Salary                   9358\n",
       "ApplicationP                0\n",
       "OpeningDate               810\n",
       "Deadline                 2024\n",
       "Year                        0\n",
       "Month                       0\n",
       "IT                          0\n",
       "JobDescription_skills       0\n",
       "JobRequirment_skills        0\n",
       "modified_Term               0\n",
       "DaysLeftToApply          2426\n",
       "dtype: int64"
      ]
     },
     "execution_count": 46,
     "metadata": {},
     "output_type": "execute_result"
    }
   ],
   "source": [
    "job.isna().sum()"
   ]
  },
  {
   "cell_type": "code",
   "execution_count": 45,
   "id": "0bd3004e-f1a2-4945-9852-c092076d30b8",
   "metadata": {},
   "outputs": [],
   "source": [
    "job=job.drop('AboutC', axis=1)"
   ]
  },
  {
   "cell_type": "code",
   "execution_count": 47,
   "id": "0d5050fb-8f73-4fab-b9a6-ede1c4a8af88",
   "metadata": {},
   "outputs": [
    {
     "data": {
      "text/plain": [
       "Salary\n",
       "0                                                                                                                     9358\n",
       "Competitive                                                                                                           1295\n",
       "Highly competitive                                                                                                     586\n",
       "Based on previous salary history, experience and\\r\\nprevailing market rates for comparable positions.                  270\n",
       "Negotiable                                                                                                             269\n",
       "                                                                                                                      ... \n",
       "149,500 AMD (gross salary)                                                                                               1\n",
       "AMD equivalent of $350 USD ($500 after\\r\\nprobation).                                                                    1\n",
       "Per assignment. According to market rates.                                                                               1\n",
       "Depends on skills and experience.                                                                                        1\n",
       "800.000 AMD, based on previous salary history,\\r\\nexperience and prevailing market rates for comparable positions.       1\n",
       "Name: count, Length: 2693, dtype: int64"
      ]
     },
     "execution_count": 47,
     "metadata": {},
     "output_type": "execute_result"
    }
   ],
   "source": [
    "job['Salary']=job['Salary'].fillna(0)\n",
    "job['Salary'].value_counts()"
   ]
  },
  {
   "cell_type": "code",
   "execution_count": 49,
   "id": "8764f853-105c-4d4e-9630-2c9d6f0c3738",
   "metadata": {},
   "outputs": [],
   "source": [
    "job.dropna(subset='Title',inplace=True)"
   ]
  },
  {
   "cell_type": "code",
   "execution_count": 52,
   "id": "dfdd6005-84ad-4151-b54d-5aea59c00306",
   "metadata": {},
   "outputs": [],
   "source": [
    "job['Company']=job['Company'].fillna('UnKnown')"
   ]
  },
  {
   "cell_type": "code",
   "execution_count": 53,
   "id": "30c431b5-9e11-4c50-9fc1-556a6e68dc1c",
   "metadata": {},
   "outputs": [
    {
     "data": {
      "text/plain": [
       "jobpost                     0\n",
       "date                        0\n",
       "Title                       0\n",
       "Company                     0\n",
       "Term                        0\n",
       "Eligibility                 0\n",
       "Audience                    0\n",
       "StartDate                9284\n",
       "Duration                 8169\n",
       "Location                    0\n",
       "JobDescription              0\n",
       "JobRequirment               0\n",
       "RequiredQual                0\n",
       "Salary                      0\n",
       "ApplicationP                0\n",
       "OpeningDate               802\n",
       "Deadline                 2011\n",
       "Year                        0\n",
       "Month                       0\n",
       "IT                          0\n",
       "JobDescription_skills       0\n",
       "JobRequirment_skills        0\n",
       "modified_Term               0\n",
       "DaysLeftToApply          2413\n",
       "dtype: int64"
      ]
     },
     "execution_count": 53,
     "metadata": {},
     "output_type": "execute_result"
    }
   ],
   "source": [
    "job.isna().sum()"
   ]
  },
  {
   "cell_type": "code",
   "execution_count": 56,
   "id": "50310d69-6699-405a-8d1c-eb5b5a4b4b84",
   "metadata": {},
   "outputs": [
    {
     "name": "stdout",
     "output_type": "stream",
     "text": [
      "                                              jobpost          date  \\\n",
      "4   Yerevan Brandy Company\\r\\nJOB TITLE:  Software...  Jan 10, 2004   \n",
      "15  NetCall Communications\\r\\nJOB TITLE:  Network ...  Jan 15, 2004   \n",
      "19  Xalt LLC\\r\\nJOB TITLE:  Graphic Designer\\r\\nPO...  Jan 16, 2004   \n",
      "34  Caucasus Research Resource Center - Armenia\\r\\...  Jan 24, 2004   \n",
      "35  CIT Ltd.\\r\\nJOB TITLE:  Programmer\\r\\nPOSITION...  Jan 26, 2004   \n",
      "\n",
      "                            Title  Company       Term  \\\n",
      "4               Software Engineer  UnKnown  Full time   \n",
      "15          network administrator  UnKnown  Full time   \n",
      "19               graphic designer  UnKnown  Full time   \n",
      "34  demographic analysis workshop  UnKnown  Full time   \n",
      "35                     programmer  UnKnown  Full time   \n",
      "\n",
      "                 Eligibility                   Audience StartDate Duration  \\\n",
      "4   All qualified candidates  All interested candidates       NaN      NaN   \n",
      "15  All qualified candidates  All interested candidates       NaN      NaN   \n",
      "19  All qualified candidates  All interested candidates       NaN      NaN   \n",
      "34  All qualified candidates  All interested candidates       NaN   3 week   \n",
      "35  All qualified candidates  All interested candidates       NaN      NaN   \n",
      "\n",
      "                                             Location  ...  \\\n",
      "4                                    Yerevan, Armenia  ...   \n",
      "15                                   Yerevan, Armenia  ...   \n",
      "19                                   Yerevan, Armenia  ...   \n",
      "34  Yerevan, Armenia\\r\\nDESCRIPTION:   Demographic...  ...   \n",
      "35                                   Yerevan, Armenia  ...   \n",
      "\n",
      "                                         ApplicationP OpeningDate   Deadline  \\\n",
      "4   Successful candidates should submit\\r\\n- CV; \\...         NaT        NaT   \n",
      "15  Successful candidates should submit CV and 1-2...         NaT        NaT   \n",
      "19  Interested applicants should send CVs by email...         NaT 2004-01-26   \n",
      "34  If you are interested in this course and feel\\...         NaT 2004-01-30   \n",
      "35  Send your resume to Rosa Karapetyan at:rosak@....         NaT 2004-02-20   \n",
      "\n",
      "    Year Month    IT JobDescription_skills  JobRequirment_skills  \\\n",
      "4   2004     1  True                   [r]              [sql, r]   \n",
      "15  2004     1  True                   [r]              [sql, r]   \n",
      "19  2004     1  True                   [r]                   [r]   \n",
      "34  2004     1  True                   [r]                   [r]   \n",
      "35  2004     1  True                   [r]                   [r]   \n",
      "\n",
      "    modified_Term  DaysLeftToApply  \n",
      "4       Full-Time              NaN  \n",
      "15      Full-Time              NaN  \n",
      "19      Full-Time              NaN  \n",
      "34      Full-Time              NaN  \n",
      "35      Full-Time              NaN  \n",
      "\n",
      "[5 rows x 24 columns]\n",
      "(3753, 24)\n"
     ]
    }
   ],
   "source": [
    "it_jobs = job[job['IT'] == True]\n",
    "print(it_jobs.head())\n",
    "print(it_jobs.shape)"
   ]
  },
  {
   "cell_type": "code",
   "execution_count": 58,
   "id": "5f9cd250-55de-46c6-ac2f-6347cfcedb3b",
   "metadata": {},
   "outputs": [
    {
     "data": {
      "text/plain": [
       "Eligibility\n",
       "All qualified candidates                                                                                 15236\n",
       "All interested candidates                                                                                  903\n",
       "Everyone                                                                                                   367\n",
       "All interested candidates.                                                                                 221\n",
       "All qualified candidates.                                                                                  196\n",
       "                                                                                                         ...  \n",
       "All Web Designers                                                                                            1\n",
       "All qualified candidates are eligible to\\r\\napply.                                                           1\n",
       "Candidates experienced in administrative\\r\\nand human resource management.                                   1\n",
       "All qualified candidates with\\r\\nappropriate education & experience.                                         1\n",
       "All interested professionals in the\\r\\nfields of sociology, management and quality assurance systems.        1\n",
       "Name: count, Length: 663, dtype: int64"
      ]
     },
     "execution_count": 58,
     "metadata": {},
     "output_type": "execute_result"
    }
   ],
   "source": [
    "job['Eligibility'].value_counts()"
   ]
  },
  {
   "cell_type": "code",
   "execution_count": 59,
   "id": "1a99aff4-7051-4101-ad50-a716ab1fa055",
   "metadata": {},
   "outputs": [
    {
     "name": "stdout",
     "output_type": "stream",
     "text": [
      "                                            Audience     Experience_Range\n",
      "0                          All interested candidates          Entry-level\n",
      "1                                      Professionals            Mid-level\n",
      "2                           All qualified candidates                Other\n",
      "3                                Software Developers  Specific Job Titles\n",
      "4  Network administrators with at least 5 years o...  Specific Job Titles\n",
      "5              System Administrators, IT specialists         Senior-level\n",
      "6  Professionals working in the public sector and...            Mid-level\n",
      "7                         All interested candidates.          Entry-level\n"
     ]
    }
   ],
   "source": [
    "import pandas as pd\n",
    "import numpy as np\n",
    "data = {\n",
    "    'Audience': [\n",
    "        'All interested candidates', \n",
    "        'Professionals', \n",
    "        'All qualified candidates', \n",
    "        'Software Developers', \n",
    "        'Network administrators with at least 5 years of work\\r\\nexperience',\n",
    "        'System Administrators, IT specialists',\n",
    "        'Professionals working in the public sector and/ or\\r\\nnonprofit sector in Armenia.',\n",
    "        'All interested candidates.'\n",
    "    ]\n",
    "}\n",
    "job = pd.DataFrame(data)\n",
    "def categorize_audience(audience):\n",
    "    audience = str(audience).lower()\n",
    "    if 'all interested candidates' in audience or 'fresher' in audience or 'junior' in audience or 'beginner' in audience:\n",
    "        return 'Entry-level'\n",
    "    elif 'professionals' in audience or '3-5 years' in audience or 'intermediate' in audience:\n",
    "        return 'Mid-level'\n",
    "    elif 'senior' in audience or '5+ years' in audience or 'manager' in audience or 'lead' in audience or 'specialist' in audience:\n",
    "        return 'Senior-level'\n",
    "    elif 'developer' in audience or 'designer' in audience or 'administrator' in audience or 'specialist' in audience:\n",
    "        return 'Specific Job Titles'\n",
    "    else:\n",
    "        return 'Other'\n",
    "job['Experience_Range'] = job['Audience'].apply(categorize_audience)\n",
    "print(job)\n"
   ]
  },
  {
   "cell_type": "code",
   "execution_count": null,
   "id": "891b2512-2a7d-4301-9abe-47c84021a045",
   "metadata": {},
   "outputs": [],
   "source": []
  }
 ],
 "metadata": {
  "kernelspec": {
   "display_name": "Python 3 (ipykernel)",
   "language": "python",
   "name": "python3"
  },
  "language_info": {
   "codemirror_mode": {
    "name": "ipython",
    "version": 3
   },
   "file_extension": ".py",
   "mimetype": "text/x-python",
   "name": "python",
   "nbconvert_exporter": "python",
   "pygments_lexer": "ipython3",
   "version": "3.11.0"
  }
 },
 "nbformat": 4,
 "nbformat_minor": 5
}
