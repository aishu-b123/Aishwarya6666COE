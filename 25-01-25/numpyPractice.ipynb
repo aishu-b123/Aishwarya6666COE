{
 "cells": [
  {
   "cell_type": "code",
   "execution_count": 1,
   "id": "82bf55c0-5256-4530-9a42-3dd870938e62",
   "metadata": {},
   "outputs": [
    {
     "name": "stdout",
     "output_type": "stream",
     "text": [
      "Requirement already satisfied: numpy in c:\\users\\cvr\\appdata\\local\\programs\\python\\python311\\lib\\site-packages (1.26.4)\n",
      "Note: you may need to restart the kernel to use updated packages.\n"
     ]
    }
   ],
   "source": [
    "pip install numpy"
   ]
  },
  {
   "cell_type": "code",
   "execution_count": 2,
   "id": "f0beb291-e42a-445a-baeb-377b09c9c138",
   "metadata": {},
   "outputs": [],
   "source": [
    "import numpy as np"
   ]
  },
  {
   "cell_type": "code",
   "execution_count": 3,
   "id": "53078eb4-ceac-4d41-a3a4-fde860f5cccf",
   "metadata": {},
   "outputs": [
    {
     "name": "stdout",
     "output_type": "stream",
     "text": [
      "[1 2 3 4]\n"
     ]
    }
   ],
   "source": [
    "arr_1d=np.array([1,2,3,4])\n",
    "print(arr_1d)"
   ]
  },
  {
   "cell_type": "code",
   "execution_count": 8,
   "id": "7bf57174-5f6e-46ab-bcbc-8d46527dc05f",
   "metadata": {},
   "outputs": [
    {
     "name": "stdout",
     "output_type": "stream",
     "text": [
      "[[1 2 3 4]\n",
      " [2 4 6 8]]\n",
      "4\n"
     ]
    }
   ],
   "source": [
    "arr_2d=np.array([[1,2,3,4],[2,4,6,8]])\n",
    "print(arr_2d)\n",
    "print(arr_2d[1][1])"
   ]
  },
  {
   "cell_type": "code",
   "execution_count": 10,
   "id": "0655743f-f0f5-4459-8ebd-7fca6ab37d3c",
   "metadata": {},
   "outputs": [
    {
     "name": "stdout",
     "output_type": "stream",
     "text": [
      "[[0. 0. 0.]\n",
      " [0. 0. 0.]\n",
      " [0. 0. 0.]]\n"
     ]
    }
   ],
   "source": [
    "zero_arr=np.zeros((3,3))\n",
    "print(zero_arr)"
   ]
  },
  {
   "cell_type": "code",
   "execution_count": 12,
   "id": "7f713f6b-8f85-4778-b018-59feb6b5982c",
   "metadata": {},
   "outputs": [
    {
     "name": "stdout",
     "output_type": "stream",
     "text": [
      "[[1. 1. 1.]\n",
      " [1. 1. 1.]\n",
      " [1. 1. 1.]]\n"
     ]
    }
   ],
   "source": [
    "ones_arr=np.ones((3,3))\n",
    "print(ones_arr)"
   ]
  },
  {
   "cell_type": "code",
   "execution_count": 14,
   "id": "7df37cdf-d601-4c40-8898-41f270733442",
   "metadata": {},
   "outputs": [
    {
     "name": "stdout",
     "output_type": "stream",
     "text": [
      "[[0.83510115 0.21760414 0.2792929 ]\n",
      " [0.61468895 0.8899632  0.28072572]\n",
      " [0.26938683 0.25778313 0.76747921]\n",
      " [0.03443226 0.6215775  0.84730144]]\n"
     ]
    }
   ],
   "source": [
    "random_arr=np.random.random((4,3))\n",
    "print(random_arr)"
   ]
  },
  {
   "cell_type": "code",
   "execution_count": 18,
   "id": "4fce6770-1041-4067-b242-594f5a1dbd96",
   "metadata": {},
   "outputs": [
    {
     "name": "stdout",
     "output_type": "stream",
     "text": [
      "[[1. 0. 0.]\n",
      " [0. 1. 0.]\n",
      " [0. 0. 1.]]\n"
     ]
    }
   ],
   "source": [
    "identity_arr=np.eye(3,3)\n",
    "print(identity_arr)"
   ]
  },
  {
   "cell_type": "code",
   "execution_count": 19,
   "id": "773c3519-622d-4357-9c75-5d3534c49f13",
   "metadata": {},
   "outputs": [
    {
     "name": "stdout",
     "output_type": "stream",
     "text": [
      "[0 2 4 6 8]\n"
     ]
    }
   ],
   "source": [
    "r=np.arange(0,10,2)\n",
    "print(r)"
   ]
  },
  {
   "cell_type": "code",
   "execution_count": 23,
   "id": "ba7f13fa-e70e-4dcd-b01e-3f22fa520a2e",
   "metadata": {},
   "outputs": [
    {
     "name": "stdout",
     "output_type": "stream",
     "text": [
      "(2, 4)\n",
      "8\n",
      "int32\n",
      "2\n"
     ]
    }
   ],
   "source": [
    "arr1=np.array([[1,2,3,4],[2,4,6,8]])\n",
    "print(arr1.shape)\n",
    "print(arr1.size)\n",
    "print(arr1.dtype)\n",
    "print(arr1.ndim)"
   ]
  },
  {
   "cell_type": "code",
   "execution_count": 24,
   "id": "4a15b493-af11-400f-82b8-4e13f057d3fc",
   "metadata": {},
   "outputs": [
    {
     "data": {
      "text/plain": [
       "2"
      ]
     },
     "execution_count": 24,
     "metadata": {},
     "output_type": "execute_result"
    }
   ],
   "source": [
    "arr1[0][1]"
   ]
  },
  {
   "cell_type": "code",
   "execution_count": 26,
   "id": "f2f4d417-6e8c-48dd-a353-e8465af81184",
   "metadata": {},
   "outputs": [
    {
     "data": {
      "text/plain": [
       "2"
      ]
     },
     "execution_count": 26,
     "metadata": {},
     "output_type": "execute_result"
    }
   ],
   "source": [
    "arr1[0,1]"
   ]
  },
  {
   "cell_type": "code",
   "execution_count": 29,
   "id": "0b61a7cb-0e4d-4cfa-a78f-4a468b170367",
   "metadata": {},
   "outputs": [
    {
     "data": {
      "text/plain": [
       "array([[2],\n",
       "       [4]])"
      ]
     },
     "execution_count": 29,
     "metadata": {},
     "output_type": "execute_result"
    }
   ],
   "source": [
    "arr1[0:2,1:2]"
   ]
  },
  {
   "cell_type": "code",
   "execution_count": 28,
   "id": "7b806b48-586d-4573-bcea-bc407050d597",
   "metadata": {},
   "outputs": [
    {
     "data": {
      "text/plain": [
       "array([[2, 3, 4],\n",
       "       [4, 6, 8]])"
      ]
     },
     "execution_count": 28,
     "metadata": {},
     "output_type": "execute_result"
    }
   ],
   "source": [
    "arr1[:,1:]"
   ]
  },
  {
   "cell_type": "code",
   "execution_count": 30,
   "id": "a96f21a8-465d-4cc6-9169-d38bf458217a",
   "metadata": {},
   "outputs": [
    {
     "name": "stdout",
     "output_type": "stream",
     "text": [
      "[1, 2, 3, 6, 7, 8]\n"
     ]
    }
   ],
   "source": [
    "a=[1,2,3]\n",
    "b=[6,7,8]\n",
    "print(a+b)"
   ]
  },
  {
   "cell_type": "code",
   "execution_count": 31,
   "id": "3e1af555-af85-409d-b0aa-39dd8e3a7965",
   "metadata": {},
   "outputs": [
    {
     "name": "stdout",
     "output_type": "stream",
     "text": [
      "[ 7  9 11]\n"
     ]
    }
   ],
   "source": [
    "a_arr=np.array([1,2,3])\n",
    "b_arr=np.array([6,7,8])\n",
    "print(a_arr+b_arr)"
   ]
  },
  {
   "cell_type": "code",
   "execution_count": 32,
   "id": "84f6a73f-52e4-481e-ab05-457e2b0cfc6f",
   "metadata": {},
   "outputs": [
    {
     "name": "stdout",
     "output_type": "stream",
     "text": [
      "[ 6 14 24]\n"
     ]
    }
   ],
   "source": [
    "print(a_arr*b_arr)"
   ]
  },
  {
   "cell_type": "code",
   "execution_count": 33,
   "id": "b5baa1b5-7d87-4c18-a8c1-c8735cb97b4f",
   "metadata": {},
   "outputs": [
    {
     "name": "stdout",
     "output_type": "stream",
     "text": [
      "[0.16666667 0.28571429 0.375     ]\n"
     ]
    }
   ],
   "source": [
    "print(a_arr/b_arr)"
   ]
  },
  {
   "cell_type": "code",
   "execution_count": 34,
   "id": "842f4574-d563-486c-a639-a632fa603941",
   "metadata": {},
   "outputs": [
    {
     "name": "stdout",
     "output_type": "stream",
     "text": [
      "[1 2 3]\n"
     ]
    }
   ],
   "source": [
    "print(a_arr%b_arr)"
   ]
  },
  {
   "cell_type": "code",
   "execution_count": 40,
   "id": "11bf253d-3046-43ea-88b8-810cf1b7bf34",
   "metadata": {},
   "outputs": [
    {
     "name": "stdout",
     "output_type": "stream",
     "text": [
      "[[ 9 16 21]\n",
      " [24 25 24]\n",
      " [21 16  9]]\n"
     ]
    }
   ],
   "source": [
    "ex1=np.array([[1,2,3],[4,5,6],[7,8,9]])\n",
    "ex2=np.array([[9,8,7],[6,5,4],[3,2,1]])\n",
    "res=ex1*ex2\n",
    "print(ex1*ex2)"
   ]
  },
  {
   "cell_type": "code",
   "execution_count": 38,
   "id": "b6fe954f-c90c-41ef-8370-98e1f835177a",
   "metadata": {},
   "outputs": [
    {
     "name": "stdout",
     "output_type": "stream",
     "text": [
      "[[ 30  24  18]\n",
      " [ 84  69  54]\n",
      " [138 114  90]]\n"
     ]
    }
   ],
   "source": [
    "print(np.dot(ex1,ex2))"
   ]
  },
  {
   "cell_type": "code",
   "execution_count": 44,
   "id": "7a9086e8-35d9-4ec6-944d-5e27e4e3e221",
   "metadata": {},
   "outputs": [
    {
     "name": "stdout",
     "output_type": "stream",
     "text": [
      "[[ 30  24  18]\n",
      " [ 84  69  54]\n",
      " [138 114  90]]\n"
     ]
    }
   ],
   "source": [
    "result=ex1@ex2\n",
    "print(ex1@ex2)"
   ]
  },
  {
   "cell_type": "code",
   "execution_count": 45,
   "id": "0564bb13-4d86-436a-8088-323990759019",
   "metadata": {},
   "outputs": [
    {
     "data": {
      "image/png": "[encoded data removed]",
      "text/plain": [
       "<Figure size 640x480 with 1 Axes>"
      ]
     },
     "metadata": {},
     "output_type": "display_data"
    }
   ],
   "source": [
    "import matplotlib.pyplot as plt\n",
    "plt.plot(result)\n",
    "plt.show()"
   ]
  },
  {
   "cell_type": "code",
   "execution_count": 47,
   "id": "27957e23-8604-4241-b028-d3623b2cc331",
   "metadata": {},
   "outputs": [
    {
     "name": "stdout",
     "output_type": "stream",
     "text": [
      "[ 2.71828183  7.3890561  20.08553692]\n"
     ]
    }
   ],
   "source": [
    "x=np.array([1,2,3])\n",
    "print(np.exp(x))"
   ]
  },
  {
   "cell_type": "code",
   "execution_count": 48,
   "id": "f1465780-22e7-41c3-a8d8-8f65dd56c208",
   "metadata": {},
   "outputs": [
    {
     "data": {
      "text/plain": [
       "array([1.        , 1.41421356, 1.73205081])"
      ]
     },
     "execution_count": 48,
     "metadata": {},
     "output_type": "execute_result"
    }
   ],
   "source": [
    "np.sqrt(x)"
   ]
  },
  {
   "cell_type": "code",
   "execution_count": 50,
   "id": "4e696ef1-8745-44d9-a537-0efd223d6b5c",
   "metadata": {},
   "outputs": [
    {
     "name": "stdout",
     "output_type": "stream",
     "text": [
      "Sum is: 6\n",
      "Mean is: 2.0\n",
      "Standard Deviation is: 0.816496580927726\n",
      "Max is: 3\n",
      "Min is: 1\n"
     ]
    }
   ],
   "source": [
    "print(\"Sum is:\",np.sum(x))\n",
    "print(\"Mean is:\",np.mean(x))\n",
    "print(\"Standard Deviation is:\",np.std(x))\n",
    "print(\"Max is:\",np.max(x))\n",
    "print(\"Min is:\",np.min(x))"
   ]
  },
  {
   "cell_type": "code",
   "execution_count": 51,
   "id": "d29c92b0-b027-437c-ba8f-c35719c5a0b5",
   "metadata": {},
   "outputs": [
    {
     "name": "stdout",
     "output_type": "stream",
     "text": [
      "[[1 2 3]\n",
      " [4 5 6]]\n"
     ]
    }
   ],
   "source": [
    "x=np.array([1,2,3,4,5,6])\n",
    "reshaped=x.reshape(2,3)\n",
    "print(reshaped)"
   ]
  },
  {
   "cell_type": "code",
   "execution_count": 54,
   "id": "99c6b303-5047-4fbd-94e8-2a3bfe9fde9f",
   "metadata": {},
   "outputs": [
    {
     "name": "stdout",
     "output_type": "stream",
     "text": [
      "[[1 2 3]\n",
      " [6 7 8]]\n"
     ]
    }
   ],
   "source": [
    "print(np.vstack((a_arr,b_arr)))"
   ]
  },
  {
   "cell_type": "code",
   "execution_count": 55,
   "id": "7af951c9-f467-47da-a688-d3bb6bf85a6f",
   "metadata": {},
   "outputs": [
    {
     "name": "stdout",
     "output_type": "stream",
     "text": [
      "[1 2 3 6 7 8]\n"
     ]
    }
   ],
   "source": [
    "print(np.hstack((a_arr,b_arr)))"
   ]
  },
  {
   "cell_type": "code",
   "execution_count": 58,
   "id": "ba753fa4-fd9d-4898-aeb6-0da7fa7bf074",
   "metadata": {},
   "outputs": [
    {
     "name": "stdout",
     "output_type": "stream",
     "text": [
      "[array([1, 2]), array([3, 4]), array([5, 6])]\n"
     ]
    }
   ],
   "source": [
    "print(np.array_split(x,3))"
   ]
  },
  {
   "cell_type": "code",
   "execution_count": 60,
   "id": "7e831861-9c82-4546-bca1-8097588901b2",
   "metadata": {},
   "outputs": [
    {
     "name": "stdout",
     "output_type": "stream",
     "text": [
      "[10  2  3  4  5  6]\n",
      "[10  2  3  4  5  6]\n"
     ]
    }
   ],
   "source": [
    "view=x.view()\n",
    "view[0]=10\n",
    "print(view)\n",
    "print(x)"
   ]
  },
  {
   "cell_type": "code",
   "execution_count": 62,
   "id": "865fb501-5988-4a2d-82aa-b7f3bdb53ecc",
   "metadata": {},
   "outputs": [
    {
     "name": "stdout",
     "output_type": "stream",
     "text": [
      "[20  2  3  4  5  6]\n",
      "[10  2  3  4  5  6]\n"
     ]
    }
   ],
   "source": [
    "copy=x.copy()\n",
    "copy[0]=20\n",
    "print(copy)\n",
    "print(x)"
   ]
  },
  {
   "cell_type": "code",
   "execution_count": 63,
   "id": "94091b5a-4399-464a-a5c7-9d3232d881ce",
   "metadata": {},
   "outputs": [],
   "source": [
    "np.save('arr.npy',x)"
   ]
  },
  {
   "cell_type": "code",
   "execution_count": 64,
   "id": "76c755f6-5a05-4c34-b534-b4c704cbcfba",
   "metadata": {},
   "outputs": [
    {
     "name": "stdout",
     "output_type": "stream",
     "text": [
      "[10  2  3  4  5  6]\n"
     ]
    }
   ],
   "source": [
    "loaded_arr=np.load('arr.npy')\n",
    "print(loaded_arr)"
   ]
  },
  {
   "cell_type": "code",
   "execution_count": null,
   "id": "bafac2b5-6715-4a1a-a2ae-1e0a785e42e6",
   "metadata": {},
   "outputs": [],
   "source": []
  }
 ],
 "metadata": {
  "kernelspec": {
   "display_name": "Python 3 (ipykernel)",
   "language": "python",
   "name": "python3"
  },
  "language_info": {
   "codemirror_mode": {
    "name": "ipython",
    "version": 3
   },
   "file_extension": ".py",
   "mimetype": "text/x-python",
   "name": "python",
   "nbconvert_exporter": "python",
   "pygments_lexer": "ipython3",
   "version": "3.11.0"
  }
 },
 "nbformat": 4,
 "nbformat_minor": 5
}
