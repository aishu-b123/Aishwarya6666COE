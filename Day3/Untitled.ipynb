{
 "cells": [
  {
   "cell_type": "code",
   "execution_count": 1,
   "id": "1987fce9-94b1-4425-9da9-150629bd3e5c",
   "metadata": {},
   "outputs": [
    {
     "name": "stdout",
     "output_type": "stream",
     "text": [
      "Hello\n"
     ]
    }
   ],
   "source": [
    "print(\"Hello\")\n"
   ]
  },
  {
   "cell_type": "code",
   "execution_count": 28,
   "id": "657898e8-0892-43af-965f-994b4292a915",
   "metadata": {},
   "outputs": [
    {
     "name": "stdin",
     "output_type": "stream",
     "text": [
      "Enter the password ssdf\n"
     ]
    },
    {
     "name": "stdout",
     "output_type": "stream",
     "text": [
      "password should have length between 10 and 15 characters\n"
     ]
    }
   ],
   "source": [
    "def pass_strength(password):\n",
    "    if len(password)<10 or len(password)>15:\n",
    "        return \"password should have length between 10 and 15 characters\"\n",
    "    elif not any( char.isupper() for char in password) or not any(char.islower() for char in password) or not any(char.isdigit() for char in password):\n",
    "        return \"pass should contain atleast 1 uppercase and 1 lowercase and 1 digit\"\n",
    "    elif(\" \" in password):\n",
    "        return \"should not contain white spaces\"\n",
    "    elif not any(ch in \"@*-_!&\" for ch in password):\n",
    "        return \"contain atleast for special character\"\n",
    "    elif password.endsWith('.') or password.endsWith('@'):\n",
    "        return \"password should not end with '.' or '@'\"\n",
    "    else:\n",
    "        return \"strong password\"\n",
    "p=input(\"Enter the password\")\n",
    "print(pass_strength(p))"
   ]
  },
  {
   "cell_type": "code",
   "execution_count": 32,
   "id": "4e5a82fc-5c0a-44a7-b1dd-4a31008eb5ae",
   "metadata": {},
   "outputs": [
    {
     "name": "stdin",
     "output_type": "stream",
     "text": [
      " 4\n"
     ]
    },
    {
     "name": "stdout",
     "output_type": "stream",
     "text": [
      "24\n"
     ]
    }
   ],
   "source": [
    "def fact(n):\n",
    "    res=1\n",
    "    while n>1:\n",
    "        res=res*n\n",
    "        n=n-1 \n",
    "    return res\n",
    "n=int(input())\n",
    "print(fact(n))"
   ]
  },
  {
   "cell_type": "code",
   "execution_count": 38,
   "id": "e83cb3ee-7cf4-4a8c-8b21-75356b44cc84",
   "metadata": {},
   "outputs": [
    {
     "name": "stdin",
     "output_type": "stream",
     "text": [
      "enter value: madam\n"
     ]
    },
    {
     "name": "stdout",
     "output_type": "stream",
     "text": [
      "madam is a palindrome\n"
     ]
    }
   ],
   "source": [
    "def palindrome(inp):\n",
    "    if inp == inp[::-1]:\n",
    "        return f'{inp} is a palindrome'\n",
    "    return f'yes,{inp} is not a palindrome'\n",
    "inp=input(\"enter value:\")\n",
    "print(palindrome(inp))"
   ]
  },
  {
   "cell_type": "code",
   "execution_count": 43,
   "id": "caac0483-1ab0-4455-aef9-a3731414d495",
   "metadata": {},
   "outputs": [
    {
     "name": "stdout",
     "output_type": "stream",
     "text": [
      "82875.0 after 15% discount\n"
     ]
    }
   ],
   "source": [
    "def op(cart):\n",
    "    total=sum(cart.values())\n",
    "    if total>=20000 and total<=50000:\n",
    "        total*=0.9\n",
    "        return f'{total} after 10% discount'\n",
    "    elif total >50000:\n",
    "        total *=0.85\n",
    "        return f'{total} after 15% discount'\n",
    "cart={'laptop':50000,'headphones':2000,'mouse':35000,'keyboard':1500,'monitor':8000,'usb-drive':1000}\n",
    "print(op(cart))\n"
   ]
  },
  {
   "cell_type": "raw",
   "id": "6f6d7aef-aad5-478d-b2da-a44c661f61fa",
   "metadata": {},
   "source": [
    "1.display students where city is in pune\n",
    "2.''                     city is hyd or pune\n",
    "3.''                  female from hyd and male from hyd and all students from bglr\n",
    "4.\n",
    "'' hyd city and male who scored more than 70 and female who scored more than 50\n",
    "'' from pune only male\n",
    "'' not from bglr\n",
    "5. '' scored bw 50 and 80 and city hyd o rbbglr\n",
    "6.name starts with s ends with a\n",
    "7.no of stu in each city\n",
    "8.best city in education based on scl\n",
    "9. top score in each city\n",
    "10. display topper details of hyd"
   ]
  },
  {
   "cell_type": "raw",
   "id": "e621180d-1301-43d3-b7ff-ebb9beec8185",
   "metadata": {},
   "source": [
    "1.find number of customers for each salesperson\n",
    "2.best salesperson based on customer rating\n",
    "3.to whom we need to fire from salesperson team\n",
    "4.who has less customer rating\n",
    "5.display salespeople who has customers from same city."
   ]
  },
  {
   "cell_type": "code",
   "execution_count": null,
   "id": "33dabba3-397b-4f6a-9b53-f5a23d98bef0",
   "metadata": {},
   "outputs": [],
   "source": [
    "select snum,count(*) as no_of_cust from customer group by snum;"
   ]
  },
  {
   "cell_type": "code",
   "execution_count": null,
   "id": "b53e7786-670e-498f-b245-751662a48300",
   "metadata": {},
   "outputs": [],
   "source": []
  }
 ],
 "metadata": {
  "kernelspec": {
   "display_name": "Python 3 (ipykernel)",
   "language": "python",
   "name": "python3"
  },
  "language_info": {
   "codemirror_mode": {
    "name": "ipython",
    "version": 3
   },
   "file_extension": ".py",
   "mimetype": "text/x-python",
   "name": "python",
   "nbconvert_exporter": "python",
   "pygments_lexer": "ipython3",
   "version": "3.11.0"
  }
 },
 "nbformat": 4,
 "nbformat_minor": 5
}
