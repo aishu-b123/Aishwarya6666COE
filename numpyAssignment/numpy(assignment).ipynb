{
 "cells": [
  {
   "cell_type": "code",
   "execution_count": 2,
   "id": "4c9d3ea2-2864-4ea1-ba9e-257d4162da6d",
   "metadata": {},
   "outputs": [],
   "source": [
    "import numpy as np"
   ]
  },
  {
   "cell_type": "code",
   "execution_count": 3,
   "id": "b29b7611-31a1-4f9f-a7cc-0597b7cede5c",
   "metadata": {},
   "outputs": [
    {
     "name": "stdout",
     "output_type": "stream",
     "text": [
      "[10 11 12 13 14 15 16 17 18 19 20 21 22 23 24 25 26 27 28 29 30 31 32 33\n",
      " 34 35 36 37 38 39 40 41 42 43 44 45 46 47 48 49 50]\n"
     ]
    }
   ],
   "source": [
    "arr=np.array([10, 11, 12, 13, 14, 15, 16, 17, 18, 19, 20, 21, 22, 23, 24, 25, 26,\n",
    "       27, 28, 29, 30, 31, 32, 33, 34, 35, 36, 37, 38, 39, 40, 41, 42, 43,\n",
    "       44, 45, 46, 47, 48, 49, 50])\n",
    "print(arr)"
   ]
  },
  {
   "cell_type": "code",
   "execution_count": 6,
   "id": "51db41b2-97d9-48e3-8fbb-ad4d0ad66400",
   "metadata": {},
   "outputs": [
    {
     "name": "stdout",
     "output_type": "stream",
     "text": [
      "[[0.93517059 0.47956877 0.00914288]\n",
      " [0.27762345 0.86625735 0.56060028]\n",
      " [0.50512154 0.44280947 0.96877059]]\n"
     ]
    }
   ],
   "source": [
    "random_arr=np.random.rand(3,3)\n",
    "print(random_arr)"
   ]
  },
  {
   "cell_type": "code",
   "execution_count": 9,
   "id": "01b2a946-d4ee-4691-a60f-ce288477e5d5",
   "metadata": {},
   "outputs": [
    {
     "name": "stdout",
     "output_type": "stream",
     "text": [
      "shape: (41,)\n",
      "size: 41\n",
      "Data type: int64\n"
     ]
    }
   ],
   "source": [
    "shp=arr.shape\n",
    "size=arr.size\n",
    "dt=arr.dtype\n",
    "print(\"shape:\",shp)\n",
    "print(\"size:\",size)\n",
    "print(\"Data type:\",dt)"
   ]
  },
  {
   "cell_type": "code",
   "execution_count": 10,
   "id": "307124dd-6c66-47a1-91f9-63fb7b686fd5",
   "metadata": {},
   "outputs": [
    {
     "name": "stdout",
     "output_type": "stream",
     "text": [
      "[15 16 17 18 19 20 21 22 23 24 25 26 27 28 29 30 31 32 33 34 35 36 37 38\n",
      " 39 40 41 42 43 44 45 46 47 48 49 50 51 52 53 54 55]\n"
     ]
    }
   ],
   "source": [
    "new=arr+5\n",
    "print(new)"
   ]
  },
  {
   "cell_type": "code",
   "execution_count": 12,
   "id": "0ec6b3f8-f6ad-4c63-bf48-f71c06af14ff",
   "metadata": {},
   "outputs": [
    {
     "name": "stdout",
     "output_type": "stream",
     "text": [
      "[[ 6 14 24]\n",
      " [ 4 10 18]]\n"
     ]
    }
   ],
   "source": [
    "a=np.array([[1,2,3],[4,5,6]])\n",
    "b=np.array([[6,7,8],[1,2,3]])\n",
    "mul=a*b\n",
    "print(mul)"
   ]
  },
  {
   "cell_type": "code",
   "execution_count": 18,
   "id": "67d1810f-dc91-4f33-88b9-8b81830e3a1a",
   "metadata": {},
   "outputs": [
    {
     "name": "stdout",
     "output_type": "stream",
     "text": [
      "[1 2 3 4 5]\n"
     ]
    }
   ],
   "source": [
    "array= np.array([[1,2,3,4,5],[6,7,8,9,10],[ 11, 12, 13, 14, 15],[ 16, 17, 18, 19, 20],[ 21, 22, 23, 24, 25]])\n",
    "print(array[0,:])"
   ]
  },
  {
   "cell_type": "code",
   "execution_count": 22,
   "id": "afdd5449-fd39-4cc4-89e0-bb0d70aa183c",
   "metadata": {},
   "outputs": [
    {
     "name": "stdout",
     "output_type": "stream",
     "text": [
      "[1 2 3 4 5]\n",
      "[ 5 10 15 20 25]\n",
      "[[ 1  2]\n",
      " [ 6  7]\n",
      " [11 12]]\n"
     ]
    }
   ],
   "source": [
    "x = np.arange(1, 26).reshape(5, 5)\n",
    "first_row = x[0, :]\n",
    "last_col=x[:,-1]\n",
    "sub=x[:3,:2]\n",
    "print(first_row)\n",
    "print(last_col)\n",
    "print(sub)"
   ]
  },
  {
   "cell_type": "code",
   "execution_count": 25,
   "id": "d20b10bc-f808-4d30-87d7-fc46bdc9a52d",
   "metadata": {},
   "outputs": [
    {
     "name": "stdout",
     "output_type": "stream",
     "text": [
      "random array: [76 52 63 41 85 21 74 47 14 82]\n",
      "max:  85\n",
      "min:  14\n",
      "mean:  55.5\n",
      "standard deviation:  23.66114959168299\n"
     ]
    }
   ],
   "source": [
    "random_int=np.random.randint(1,100,size=10)\n",
    "print(\"random array:\",random_int)\n",
    "print(\"max: \",random_int.max())\n",
    "print(\"min: \",random_int.min())\n",
    "print(\"mean: \",random_int.mean())\n",
    "print(\"standard deviation: \",random_int.std())"
   ]
  },
  {
   "cell_type": "code",
   "execution_count": 26,
   "id": "d3ab2761-2fe4-4e71-a65d-f1382f215d9c",
   "metadata": {},
   "outputs": [
    {
     "name": "stdout",
     "output_type": "stream",
     "text": [
      "[[ 1  2  3  4]\n",
      " [ 5  6  7  8]\n",
      " [ 9 10 11 12]]\n"
     ]
    }
   ],
   "source": [
    "arr1 = np.arange(1, 13)\n",
    "reshaped = arr1.reshape(3, 4)\n",
    "print(reshaped)\n"
   ]
  },
  {
   "cell_type": "code",
   "execution_count": 30,
   "id": "5f177f9f-b029-4d59-97a4-a50bc78a27de",
   "metadata": {},
   "outputs": [
    {
     "name": "stdout",
     "output_type": "stream",
     "text": [
      "[[1. 1. 1.]\n",
      " [1. 1. 1.]\n",
      " [1. 1. 1.]]\n",
      "[[2. 3. 4.]\n",
      " [2. 3. 4.]\n",
      " [2. 3. 4.]]\n"
     ]
    }
   ],
   "source": [
    "ones=np.ones((3,3))\n",
    "print(ones)\n",
    "added=ones+[[1,2,3]]\n",
    "print(added)"
   ]
  },
  {
   "cell_type": "code",
   "execution_count": 36,
   "id": "19dff69d-7601-4a45-8858-adbd7c039054",
   "metadata": {},
   "outputs": [
    {
     "name": "stdout",
     "output_type": "stream",
     "text": [
      "[11 17 20 20 13  7 33 24 33 17]\n",
      "[20 20]\n"
     ]
    }
   ],
   "source": [
    "arr_50=np.random.randint(1,51,10)\n",
    "div_5=arr_50[arr_50%5==0]\n",
    "print(arr_50)\n",
    "print(div_5)"
   ]
  },
  {
   "cell_type": "code",
   "execution_count": 40,
   "id": "fa3bcc4f-e42a-43d2-a667-80f877419c3a",
   "metadata": {},
   "outputs": [
    {
     "name": "stdout",
     "output_type": "stream",
     "text": [
      "[[ 8 11]\n",
      " [29 38]]\n"
     ]
    }
   ],
   "source": [
    "m=np.array([[1,2],[4,5]])\n",
    "n=np.array([[6,7],[1,2]])\n",
    "mul_mat_dot=np.dot(m,n)\n",
    "print(mul_mat_dot)"
   ]
  },
  {
   "cell_type": "code",
   "execution_count": 41,
   "id": "15435923-a63e-4370-a30c-942504c5dcfa",
   "metadata": {},
   "outputs": [
    {
     "name": "stdout",
     "output_type": "stream",
     "text": [
      "[1 5 3 3]\n"
     ]
    }
   ],
   "source": [
    "array_4 = np.array([[1,2,3,4],[1,5,6,2],[4,5,3,2],[8,9,0,3]])\n",
    "diagonal_ele = array_4[np.diag_indices(4)]\n",
    "print(diagonal_ele)\n"
   ]
  },
  {
   "cell_type": "code",
   "execution_count": null,
   "id": "1bb0374e-d5b7-4642-80e9-8db4b187fccc",
   "metadata": {},
   "outputs": [],
   "source": []
  }
 ],
 "metadata": {
  "kernelspec": {
   "display_name": "Python 3 (ipykernel)",
   "language": "python",
   "name": "python3"
  },
  "language_info": {
   "codemirror_mode": {
    "name": "ipython",
    "version": 3
   },
   "file_extension": ".py",
   "mimetype": "text/x-python",
   "name": "python",
   "nbconvert_exporter": "python",
   "pygments_lexer": "ipython3",
   "version": "3.11.4"
  }
 },
 "nbformat": 4,
 "nbformat_minor": 5
}
